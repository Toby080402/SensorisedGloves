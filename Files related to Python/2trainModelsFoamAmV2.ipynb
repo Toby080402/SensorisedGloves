{
 "cells": [
  {
   "cell_type": "markdown",
   "source": [
    "# Train Models"
   ],
   "metadata": {
    "collapsed": false
   }
  },
  {
   "cell_type": "markdown",
   "source": [
    "## Preprocessing"
   ],
   "metadata": {
    "collapsed": false
   }
  },
  {
   "cell_type": "code",
   "execution_count": 1,
   "outputs": [
    {
     "ename": "ModuleNotFoundError",
     "evalue": "No module named 'tensorflow'",
     "output_type": "error",
     "traceback": [
      "\u001B[1;31m---------------------------------------------------------------------------\u001B[0m",
      "\u001B[1;31mModuleNotFoundError\u001B[0m                       Traceback (most recent call last)",
      "Input \u001B[1;32mIn [1]\u001B[0m, in \u001B[0;36m<cell line: 6>\u001B[1;34m()\u001B[0m\n\u001B[0;32m      4\u001B[0m \u001B[38;5;28;01mimport\u001B[39;00m \u001B[38;5;21;01mseaborn\u001B[39;00m \u001B[38;5;28;01mas\u001B[39;00m \u001B[38;5;21;01msns\u001B[39;00m\n\u001B[0;32m      5\u001B[0m \u001B[38;5;28;01mimport\u001B[39;00m \u001B[38;5;21;01mmatplotlib\u001B[39;00m\u001B[38;5;21;01m.\u001B[39;00m\u001B[38;5;21;01mpyplot\u001B[39;00m \u001B[38;5;28;01mas\u001B[39;00m \u001B[38;5;21;01mplt\u001B[39;00m\n\u001B[1;32m----> 6\u001B[0m \u001B[38;5;28;01mimport\u001B[39;00m \u001B[38;5;21;01mtensorflow\u001B[39;00m \u001B[38;5;28;01mas\u001B[39;00m \u001B[38;5;21;01mtf\u001B[39;00m\n\u001B[0;32m      9\u001B[0m \u001B[38;5;28;01mfrom\u001B[39;00m \u001B[38;5;21;01msklearn\u001B[39;00m\u001B[38;5;21;01m.\u001B[39;00m\u001B[38;5;21;01mmodel_selection\u001B[39;00m \u001B[38;5;28;01mimport\u001B[39;00m train_test_split, GridSearchCV\n\u001B[0;32m     10\u001B[0m \u001B[38;5;28;01mfrom\u001B[39;00m \u001B[38;5;21;01msklearn\u001B[39;00m\u001B[38;5;21;01m.\u001B[39;00m\u001B[38;5;21;01mmetrics\u001B[39;00m \u001B[38;5;28;01mimport\u001B[39;00m accuracy_score\n",
      "\u001B[1;31mModuleNotFoundError\u001B[0m: No module named 'tensorflow'"
     ]
    }
   ],
   "source": [
    "import pandas as pd\n",
    "import numpy as np\n",
    "import joblib\n",
    "import seaborn as sns\n",
    "import matplotlib.pyplot as plt\n",
    "import tensorflow as tf\n",
    "\n",
    "\n",
    "from sklearn.model_selection import train_test_split, GridSearchCV\n",
    "from sklearn.metrics import accuracy_score\n",
    "from sklearn.metrics import classification_report\n",
    "from sklearn.metrics import confusion_matrix\n",
    "from sklearn.preprocessing import LabelEncoder\n",
    "from sklearn.preprocessing import MinMaxScaler\n",
    "from sklearn.preprocessing import StandardScaler\n",
    "from sklearn.svm import SVC\n",
    "from sklearn.ensemble import RandomForestClassifier\n",
    "from sklearn.neighbors import KNeighborsClassifier\n",
    "\n",
    "from xgboost import XGBClassifier\n",
    "\n",
    "from keras.models import Sequential\n",
    "from keras.layers import Dense, Dropout\n",
    "from keras.optimizers import Adam\n",
    "\n",
    "RANDOM_STATE = 80402"
   ],
   "metadata": {
    "collapsed": false,
    "ExecuteTime": {
     "start_time": "2023-04-28T00:27:29.277061Z",
     "end_time": "2023-04-28T00:27:34.380083Z"
    }
   }
  },
  {
   "cell_type": "markdown",
   "source": [
    "Import data"
   ],
   "metadata": {
    "collapsed": false
   }
  },
  {
   "cell_type": "code",
   "execution_count": null,
   "outputs": [],
   "source": [
    "# read in the data\n",
    "data = pd.read_csv(\"data/FoamAmSL.csv\")\n",
    "\n",
    "# drop any rows with missing data\n",
    "data.dropna(inplace=True)\n",
    "\n",
    "# extract the features (Voltages) and target (Symbol)\n",
    "X = data.iloc[:, 1:].values\n",
    "y = data[\"symbol\"].values\n",
    "\n",
    "data"
   ],
   "metadata": {
    "collapsed": false,
    "ExecuteTime": {
     "start_time": "2023-04-28T00:27:33.075556Z",
     "end_time": "2023-04-28T00:27:34.380083Z"
    }
   }
  },
  {
   "cell_type": "markdown",
   "source": [
    "Replace string values in y (Symbols) as integers by using one hot encoders"
   ],
   "metadata": {
    "collapsed": false
   }
  },
  {
   "cell_type": "code",
   "execution_count": null,
   "outputs": [],
   "source": [
    "# one hot encode the symbol labels as integers\n",
    "label_encoder = LabelEncoder()\n",
    "y = label_encoder.fit_transform(y)\n",
    "\n",
    "# save the label encoder to a file for later use\n",
    "joblib.dump(label_encoder, 'model2/FoamAmV2/label_encoder.joblib')\n",
    "\n",
    "data[\"symbol\"] = y\n",
    "data\n"
   ],
   "metadata": {
    "collapsed": false,
    "ExecuteTime": {
     "start_time": "2023-04-28T00:27:33.119510Z",
     "end_time": "2023-04-28T00:27:34.380083Z"
    }
   }
  },
  {
   "cell_type": "markdown",
   "source": [
    "### Normalise Data"
   ],
   "metadata": {
    "collapsed": false
   }
  },
  {
   "cell_type": "code",
   "execution_count": null,
   "outputs": [],
   "source": [
    "scaler=MinMaxScaler()\n",
    "X = pd.DataFrame(scaler.fit_transform(X))\n",
    "\n",
    "data[\"0\"]=X.iloc[:, 0]\n",
    "data[\"1\"]=X.iloc[:, 1]\n",
    "data[\"2\"]=X.iloc[:, 2]\n",
    "data[\"3\"]=X.iloc[:, 3]\n",
    "data[\"4\"]=X.iloc[:, 4]\n",
    "data[\"symbol\"]=y\n",
    "data"
   ],
   "metadata": {
    "collapsed": false,
    "ExecuteTime": {
     "start_time": "2023-04-28T00:27:33.150210Z",
     "end_time": "2023-04-28T00:27:34.380083Z"
    }
   }
  },
  {
   "cell_type": "markdown",
   "source": [
    "### Test Standardising the data"
   ],
   "metadata": {
    "collapsed": false
   }
  },
  {
   "cell_type": "code",
   "execution_count": null,
   "outputs": [],
   "source": [
    "standata=pd.read_csv(\"data/FoamAmSL.csv\")\n",
    "sX = standata.iloc[:, 1:].values\n",
    "sX=scaler.fit_transform(sX)\n",
    "sX\n",
    "#This gives the same result so just ignore it"
   ],
   "metadata": {
    "collapsed": false,
    "ExecuteTime": {
     "start_time": "2023-04-28T00:27:33.181100Z",
     "end_time": "2023-04-28T00:27:34.410906Z"
    }
   }
  },
  {
   "cell_type": "markdown",
   "source": [
    "### Split Data\n",
    "Note, use stratify to ensure same amount of symbols in each set"
   ],
   "metadata": {
    "collapsed": false
   }
  },
  {
   "cell_type": "code",
   "execution_count": null,
   "outputs": [],
   "source": [
    "# split the data into training, validation, and testing sets\n",
    "train, test = train_test_split(data, test_size=0.3, random_state=RANDOM_STATE, stratify=data[\"symbol\"])\n",
    "traindisregard, val = train_test_split(train, test_size=0.25, random_state=RANDOM_STATE, stratify=train[\"symbol\"])\n",
    "\n",
    "X_train, y_train = train.iloc[:, 1:].values, train[\"symbol\"].values\n",
    "X_test, y_test = test.iloc[:, 1:].values, test[\"symbol\"].values\n",
    "X_val, y_val = val.iloc[:, 1:].values, val[\"symbol\"].values"
   ],
   "metadata": {
    "collapsed": false,
    "ExecuteTime": {
     "start_time": "2023-04-28T00:27:33.213682Z",
     "end_time": "2023-04-28T00:27:34.410906Z"
    }
   }
  },
  {
   "cell_type": "markdown",
   "source": [
    "## Processing\n",
    "\n",
    "### SVM\n",
    "\n",
    "Perform grid search and evaluate on validation set"
   ],
   "metadata": {
    "collapsed": false
   }
  },
  {
   "cell_type": "code",
   "execution_count": null,
   "outputs": [],
   "source": [
    "# Change for different results\n",
    "cv = 4\n",
    "\n",
    "# define the parameter grid to search over\n",
    "param_grid = {\n",
    "    'C': [0.1, 1, 10, 100],\n",
    "    'kernel': ['linear', 'rbf', 'sigmoid', 'poly'],\n",
    "    'degree': [3],\n",
    "    'gamma': ['scale', 'auto'] + [0.1, 1, 10]\n",
    "}\n",
    "\n",
    "# create an SVM model\n",
    "svm_model = SVC()\n",
    "\n",
    "# perform grid search to find the best hyperparameters\n",
    "print(\"SVM: Carrying out hyperparameter optimisation\")\n",
    "grid_search = GridSearchCV(estimator=svm_model, param_grid=param_grid, cv=cv, n_jobs=-1)\n",
    "grid_search.fit(X_train, y_train)\n",
    "\n",
    "# use the best model found by grid search to make predictions on the validation set\n",
    "svm_best_model = grid_search.best_estimator_\n",
    "print(\"Best parameters:\", grid_search.best_params_)\n",
    "print(\"Best score:\", grid_search.best_score_)\n",
    "\n",
    "\n",
    "y_pred_val = svm_best_model.predict(X_val)\n",
    "# evaluate the best model's accuracy on the validation set\n",
    "val_accuracy = accuracy_score(y_val, y_pred_val)\n",
    "\n",
    "val_comp = pd.DataFrame({'actual': label_encoder.inverse_transform(y_val), 'pred': label_encoder.inverse_transform(y_pred_val)})\n",
    "\n",
    "print(f\"SVM: Validation accuracy: {val_accuracy:.4f}\")\n",
    "\n",
    "val_comp.query(\"actual != pred\")"
   ],
   "metadata": {
    "collapsed": false,
    "ExecuteTime": {
     "start_time": "2023-04-28T00:27:33.249399Z",
     "end_time": "2023-04-28T00:27:45.043515Z"
    }
   }
  },
  {
   "cell_type": "markdown",
   "source": [
    "Evaluate model on test set and save model"
   ],
   "metadata": {
    "collapsed": false
   }
  },
  {
   "cell_type": "code",
   "execution_count": null,
   "outputs": [],
   "source": [
    "# evaluate the best model's accuracy on the test set\n",
    "y_pred_test = svm_best_model.predict(X_test)\n",
    "test_accuracy = accuracy_score(y_test, y_pred_test)\n",
    "\n",
    "test_comp = pd.DataFrame({'actual': label_encoder.inverse_transform(y_test), 'pred': label_encoder.inverse_transform(y_pred_test)})\n",
    "\n",
    "print(f\"SVM: Test accuracy: {test_accuracy:.4f}\")\n",
    "\n",
    "# save the trained model to a file\n",
    "print(\"SVM: Saving model to file\")\n",
    "joblib.dump(svm_best_model, 'model2/FoamAmV2/svm_model.joblib')\n",
    "\n",
    "test_comp.query(\"actual != pred\")"
   ],
   "metadata": {
    "collapsed": false,
    "ExecuteTime": {
     "start_time": "2023-04-28T00:27:44.889682Z",
     "end_time": "2023-04-28T00:27:45.053512Z"
    }
   }
  },
  {
   "cell_type": "code",
   "execution_count": null,
   "outputs": [],
   "source": [
    "print(\"SVM: Evaluation\")\n",
    "print(classification_report(y_test,y_pred_test))"
   ],
   "metadata": {
    "collapsed": false,
    "ExecuteTime": {
     "start_time": "2023-04-28T00:27:44.919971Z",
     "end_time": "2023-04-28T00:27:45.133540Z"
    }
   }
  },
  {
   "cell_type": "code",
   "execution_count": null,
   "outputs": [],
   "source": [
    "conf_matrix = confusion_matrix(y_test,y_pred_test)\n",
    "\n",
    "# normalize the confusion matrix\n",
    "conf_matrix_norm = conf_matrix.astype('float') / conf_matrix.sum(axis=1)[:, np.newaxis]\n",
    "\n",
    "# define the labels for the x and y axes, by decoding the one hot encoded values\n",
    "labels = label_encoder.inverse_transform(range(0,16))\n",
    "\n",
    "# create a heatmap of the normalized confusion matrix\n",
    "plt.figure(figsize=(8,6))\n",
    "sns.heatmap(conf_matrix_norm, cmap=\"RdPu\", annot=True, fmt='.1f', xticklabels=labels, yticklabels=labels)\n",
    "\n",
    "# set the title of the plot\n",
    "plt.title(\"SVM Confusion Matrix\")\n",
    "plt.ylabel('Actual')\n",
    "plt.xlabel('Predicted')\n",
    "\n",
    "plt.savefig(\"model2/FoamAmV2/images/svm_conf_matrix.png\", dpi=300)\n",
    "\n",
    "# show the plot\n",
    "plt.show()"
   ],
   "metadata": {
    "collapsed": false,
    "ExecuteTime": {
     "start_time": "2023-04-28T00:27:44.963184Z",
     "end_time": "2023-04-28T00:27:48.863368Z"
    }
   }
  },
  {
   "cell_type": "markdown",
   "source": [
    "### RF"
   ],
   "metadata": {
    "collapsed": false
   }
  },
  {
   "cell_type": "code",
   "execution_count": null,
   "outputs": [],
   "source": [
    "# Change for different results\n",
    "cv = 4\n",
    "\n",
    "# define the parameter grid to search over\n",
    "param_grid = {\n",
    "    'n_estimators': [50, 100, 150],\n",
    "    'criterion': ['gini', 'entropy'],\n",
    "    'max_depth': [None, 5, 10],\n",
    "    #'min_samples_split': [2, 5],\n",
    "    #'min_samples_leaf': [1, 2, 4],\n",
    "    'max_features': ['auto', 'sqrt', 'log2']\n",
    "}\n",
    "\n",
    "# create an RF model\n",
    "rf_model_create = RandomForestClassifier(random_state=RANDOM_STATE)\n",
    "\n",
    "# perform grid search to find the best hyperparameters\n",
    "print(\"RF: Carrying out hyperparameter optimisation\")\n",
    "grid_search = GridSearchCV(estimator=rf_model_create, param_grid=param_grid, cv=cv, n_jobs=-1)\n",
    "grid_search.fit(X_train, y_train)\n",
    "\n",
    "# use the best model found by grid search to make predictions on the validation set\n",
    "rf_model = grid_search.best_estimator_\n",
    "print(\"Best parameters:\", grid_search.best_params_)\n",
    "print(\"Best score:\", grid_search.best_score_)\n",
    "\n",
    "# use the trained Random Forest classifier to make predictions on the validation set\n",
    "y_pred_val = rf_model.predict(X_val)\n",
    "# evaluate the best model's accuracy on the validation set\n",
    "val_accuracy = accuracy_score(y_val, y_pred_val)\n",
    "\n",
    "val_comp = pd.DataFrame({'actual': label_encoder.inverse_transform(y_val), 'pred': label_encoder.inverse_transform(y_pred_val)})\n",
    "\n",
    "print(f\"RF: Validation accuracy: {val_accuracy:.4f}\")\n",
    "\n",
    "val_comp.query(\"actual != pred\")"
   ],
   "metadata": {
    "collapsed": false,
    "ExecuteTime": {
     "start_time": "2023-04-28T00:27:48.641874Z",
     "end_time": "2023-04-28T00:28:18.821356Z"
    }
   }
  },
  {
   "cell_type": "code",
   "execution_count": null,
   "outputs": [],
   "source": [
    "# evaluate the best model's accuracy on the test set\n",
    "y_pred_test = rf_model.predict(X_test)\n",
    "test_accuracy = accuracy_score(y_test, y_pred_test)\n",
    "\n",
    "test_comp = pd.DataFrame({'actual': label_encoder.inverse_transform(y_test), 'pred': label_encoder.inverse_transform(y_pred_test)})\n",
    "\n",
    "print(f\"RF: Test accuracy: {test_accuracy:.4f}\")\n",
    "\n",
    "# save the trained model to a file\n",
    "print(\"RF: Saving model to file\")\n",
    "joblib.dump(rf_model, 'model2/FoamAmV2/rf_model.joblib')\n",
    "\n",
    "test_comp.query(\"actual != pred\")"
   ],
   "metadata": {
    "collapsed": false,
    "ExecuteTime": {
     "start_time": "2023-04-28T00:28:18.823280Z",
     "end_time": "2023-04-28T00:28:18.940802Z"
    }
   }
  },
  {
   "cell_type": "code",
   "execution_count": null,
   "outputs": [],
   "source": [
    "print(\"RF: Evaluation\")\n",
    "print(classification_report(y_test,y_pred_test))"
   ],
   "metadata": {
    "collapsed": false,
    "ExecuteTime": {
     "start_time": "2023-04-28T00:28:18.910809Z",
     "end_time": "2023-04-28T00:28:18.980803Z"
    }
   }
  },
  {
   "cell_type": "code",
   "execution_count": null,
   "outputs": [],
   "source": [
    "conf_matrix = confusion_matrix(y_test,y_pred_test)\n",
    "\n",
    "# normalize the confusion matrix\n",
    "conf_matrix_norm = conf_matrix.astype('float') / conf_matrix.sum(axis=1)[:, np.newaxis]\n",
    "\n",
    "# define the labels for the x and y axes, by decoding the one hot encoded values\n",
    "labels = label_encoder.inverse_transform(range(0,16))\n",
    "\n",
    "# create a heatmap of the normalized confusion matrix\n",
    "plt.figure(figsize=(8,6))\n",
    "sns.heatmap(conf_matrix_norm, cmap=\"RdPu\", annot=True, fmt='.1f', xticklabels=labels, yticklabels=labels)\n",
    "\n",
    "# set the title of the plot\n",
    "plt.title(\"RF Confusion Matrix\")\n",
    "plt.ylabel('Actual')\n",
    "plt.xlabel('Predicted')\n",
    "\n",
    "plt.savefig(\"model2/FoamAmV2/images/rf_conf_matrix.png\", dpi=300)\n",
    "\n",
    "# show the plot\n",
    "plt.show()"
   ],
   "metadata": {
    "collapsed": false,
    "ExecuteTime": {
     "start_time": "2023-04-28T00:28:18.950794Z",
     "end_time": "2023-04-28T00:28:22.287329Z"
    }
   }
  },
  {
   "cell_type": "markdown",
   "source": [
    "### KNN"
   ],
   "metadata": {
    "collapsed": false
   }
  },
  {
   "cell_type": "code",
   "execution_count": null,
   "outputs": [],
   "source": [
    "# Change for different results\n",
    "cv = 4\n",
    "# define the parameter grid to search over\n",
    "param_grid = {\n",
    "    'n_neighbors': [3, 5, 7, 9, 11],\n",
    "    'weights': ['uniform', 'distance'],\n",
    "    'algorithm': ['auto', 'ball_tree', 'kd_tree', 'brute']\n",
    "}\n",
    "# create a KNN classifier and train it on the training data\n",
    "knn_model_create = KNeighborsClassifier()\n",
    "\n",
    "# perform grid search to find the best hyperparameters\n",
    "print(\"kNN: Carrying out hyperparameter optimisation\")\n",
    "grid_search = GridSearchCV(estimator=knn_model_create, param_grid=param_grid, cv=cv, n_jobs=-1)\n",
    "grid_search.fit(X_train, y_train)\n",
    "\n",
    "# use the best model found by grid search to make predictions on the validation set\n",
    "knn_model = grid_search.best_estimator_\n",
    "print(\"Best parameters:\", grid_search.best_params_)\n",
    "print(\"Best score:\", grid_search.best_score_)\n",
    "\n",
    "\n",
    "# use the trained knn classifier to make predictions on the validation set\n",
    "y_pred_val = knn_model.predict(X_val)\n",
    "# evaluate the best model's accuracy on the validation set\n",
    "val_accuracy = accuracy_score(y_val, y_pred_val)\n",
    "\n",
    "val_comp = pd.DataFrame({'actual': label_encoder.inverse_transform(y_val), 'pred': label_encoder.inverse_transform(y_pred_val)})\n",
    "\n",
    "print(f\"KNN: Validation accuracy: {val_accuracy:.4f}\")\n",
    "\n",
    "val_comp.query(\"actual != pred\")"
   ],
   "metadata": {
    "collapsed": false,
    "ExecuteTime": {
     "start_time": "2023-04-28T00:28:22.151367Z",
     "end_time": "2023-04-28T00:28:24.195493Z"
    }
   }
  },
  {
   "cell_type": "code",
   "execution_count": null,
   "outputs": [],
   "source": [
    "# evaluate the best model's accuracy on the test set\n",
    "y_pred_test = knn_model.predict(X_test)\n",
    "test_accuracy = accuracy_score(y_test, y_pred_test)\n",
    "\n",
    "test_comp = pd.DataFrame({'actual': label_encoder.inverse_transform(y_test), 'pred': label_encoder.inverse_transform(y_pred_test)})\n",
    "\n",
    "print(f\"KNN: Test accuracy: {test_accuracy:.4f}\")\n",
    "\n",
    "# save the trained model to a file\n",
    "print(\"KNN: Saving model to file\")\n",
    "joblib.dump(knn_model, 'model2/FoamAmV2/knn_model.joblib')\n",
    "\n",
    "test_comp.query(\"actual != pred\")"
   ],
   "metadata": {
    "collapsed": false,
    "ExecuteTime": {
     "start_time": "2023-04-28T00:28:24.195493Z",
     "end_time": "2023-04-28T00:28:24.269295Z"
    }
   }
  },
  {
   "cell_type": "code",
   "execution_count": null,
   "outputs": [],
   "source": [
    "print(\"KNN: Evaluation\")\n",
    "print(classification_report(y_test,y_pred_test))"
   ],
   "metadata": {
    "collapsed": false,
    "ExecuteTime": {
     "start_time": "2023-04-28T00:28:24.256283Z",
     "end_time": "2023-04-28T00:28:24.299370Z"
    }
   }
  },
  {
   "cell_type": "code",
   "execution_count": null,
   "outputs": [],
   "source": [
    "conf_matrix = confusion_matrix(y_test,y_pred_test)\n",
    "\n",
    "# normalize the confusion matrix\n",
    "conf_matrix_norm = conf_matrix.astype('float') / conf_matrix.sum(axis=1)[:, np.newaxis]\n",
    "\n",
    "# define the labels for the x and y axes, by decoding the one hot encoded values\n",
    "labels = label_encoder.inverse_transform(range(0,16))\n",
    "\n",
    "# create a heatmap of the normalized confusion matrix\n",
    "plt.figure(figsize=(8,6))\n",
    "sns.heatmap(conf_matrix_norm, cmap=\"RdPu\", annot=True, fmt='.1f', xticklabels=labels, yticklabels=labels)\n",
    "\n",
    "# set the title of the plot\n",
    "plt.title(\"Foam AmSL KNN(2) Confusion Matrix\")\n",
    "plt.ylabel('Actual')\n",
    "plt.xlabel('Predicted')\n",
    "plt.xticks(rotation=90)\n",
    "\n",
    "plt.savefig(\"model2/FoamAmV2/images/knn_conf_matrix.png\", dpi=300)\n",
    "\n",
    "# show the plot\n",
    "plt.show()"
   ],
   "metadata": {
    "collapsed": false,
    "ExecuteTime": {
     "start_time": "2023-04-28T01:21:36.073208Z",
     "end_time": "2023-04-28T01:21:40.267028Z"
    }
   }
  },
  {
   "cell_type": "markdown",
   "source": [
    "### ANN"
   ],
   "metadata": {
    "collapsed": false
   }
  },
  {
   "cell_type": "code",
   "execution_count": null,
   "outputs": [],
   "source": [
    "#initialise\n",
    "ann_model = tf.keras.models.Sequential()\n",
    "ann_model.add(tf.keras.layers.Dense(units=6, activation='relu'))\n",
    "ann_model.add(tf.keras.layers.Dense(units=6, activation='relu'))\n",
    "ann_model.add(tf.keras.layers.Dense(units=16, activation=\"softmax\"))\n",
    "ann_model.compile(optimizer=\"adam\",loss=\"categorical_crossentropy\",metrics=['accuracy'])\n",
    "\n",
    "ann_model.fit(X_train,tf.keras.utils.to_categorical(y_train, 16),epochs = 1000)\n",
    "\n"
   ],
   "metadata": {
    "collapsed": false,
    "ExecuteTime": {
     "start_time": "2023-04-28T00:28:27.206456Z",
     "end_time": "2023-04-28T00:28:54.846557Z"
    }
   }
  },
  {
   "cell_type": "markdown",
   "source": [],
   "metadata": {
    "collapsed": false
   }
  },
  {
   "cell_type": "code",
   "execution_count": null,
   "outputs": [],
   "source": [
    "val_loss, val_acc = ann_model.evaluate(X_val, tf.keras.utils.to_categorical(y_val, 16))\n",
    "\n",
    "print('Validation accuracy:', val_acc)\n",
    "val_comp.query(\"actual != pred\")\n",
    "\n",
    "\n",
    "y_pred_val = ann_model.predict(X_val)\n",
    "y_pred_val_labels=np.argmax(y_pred_val, axis=1)\n",
    "val_comp = pd.DataFrame({'actual': label_encoder.inverse_transform(y_val), 'pred': label_encoder.inverse_transform(y_pred_val_labels)})\n",
    "\n",
    "val_comp.query(\"actual != pred\")"
   ],
   "metadata": {
    "collapsed": false,
    "ExecuteTime": {
     "start_time": "2023-04-28T00:28:53.822287Z",
     "end_time": "2023-04-28T00:28:55.621190Z"
    }
   }
  },
  {
   "cell_type": "markdown",
   "source": [],
   "metadata": {
    "collapsed": false
   }
  },
  {
   "cell_type": "code",
   "execution_count": null,
   "outputs": [],
   "source": [
    "test_loss, test_acc = ann_model.evaluate(X_test, tf.keras.utils.to_categorical(y_test, 16))\n",
    "\n",
    "print('Test accuracy:', test_acc)\n",
    "\n",
    "# save the trained model to a file\n",
    "print(\"ANN: Saving model to file\")\n",
    "joblib.dump(ann_model, 'model2/FoamAmV2/ann_model.joblib')\n",
    "\n",
    "y_pred_test = ann_model.predict(X_test)\n",
    "y_pred_test_labels=np.argmax(y_pred_test, axis=1)\n",
    "test_comp = pd.DataFrame({'actual': label_encoder.inverse_transform(y_test), 'pred': label_encoder.inverse_transform(y_pred_test_labels)})\n",
    "\n",
    "test_comp.query(\"actual != pred\")"
   ],
   "metadata": {
    "collapsed": false,
    "ExecuteTime": {
     "start_time": "2023-04-28T00:28:55.318459Z",
     "end_time": "2023-04-28T00:29:02.567757Z"
    }
   }
  },
  {
   "cell_type": "markdown",
   "source": [],
   "metadata": {
    "collapsed": false
   }
  },
  {
   "cell_type": "code",
   "execution_count": null,
   "outputs": [],
   "source": [
    "print(\"ANN: Evaluation\")\n",
    "print(classification_report(y_test,y_pred_test_labels))"
   ],
   "metadata": {
    "collapsed": false,
    "ExecuteTime": {
     "start_time": "2023-04-28T00:29:02.445544Z",
     "end_time": "2023-04-28T00:29:02.567757Z"
    }
   }
  },
  {
   "cell_type": "code",
   "execution_count": null,
   "outputs": [],
   "source": [
    "conf_matrix = confusion_matrix(y_test,y_pred_test_labels)\n",
    "\n",
    "# normalize the confusion matrix\n",
    "conf_matrix_norm = conf_matrix.astype('float') / conf_matrix.sum(axis=1)[:, np.newaxis]\n",
    "\n",
    "# define the labels for the x and y axes, by decoding the one hot encoded values\n",
    "labels = label_encoder.inverse_transform(range(0,16))\n",
    "\n",
    "# create a heatmap of the normalized confusion matrix\n",
    "plt.figure(figsize=(8,6))\n",
    "sns.heatmap(conf_matrix_norm, cmap=\"RdPu\", annot=True, fmt='.1f', xticklabels=labels, yticklabels=labels)\n",
    "\n",
    "# set the title of the plot\n",
    "plt.title(\"ANN Confusion Matrix\")\n",
    "plt.ylabel('Actual')\n",
    "plt.xlabel('Predicted')\n",
    "\n",
    "plt.savefig(\"model2/FoamAmV2/images/ann_conf_matrix.png\", dpi=300)\n",
    "\n",
    "# show the plot\n",
    "plt.show()"
   ],
   "metadata": {
    "collapsed": false,
    "ExecuteTime": {
     "start_time": "2023-04-28T00:29:02.566856Z",
     "end_time": "2023-04-28T00:29:06.221386Z"
    }
   }
  },
  {
   "cell_type": "markdown",
   "source": [
    "### XGBoost"
   ],
   "metadata": {
    "collapsed": false
   }
  },
  {
   "cell_type": "code",
   "execution_count": null,
   "outputs": [],
   "source": [
    "cv=4\n",
    "param_grid = {\n",
    "    'n_estimators': [100, 500, 1000],\n",
    "    'learning_rate': [0.01, 0.1, 0.5],\n",
    "    'max_depth': [3, 5, 7],\n",
    "    'min_child_weight': [1, 3, 5],\n",
    "    #'subsample': [0.5, 0.7, 0.9],\n",
    "    #'colsample_bytree': [0.5, 0.7, 0.9],\n",
    "   # 'reg_alpha': [0, 0.01, 0.1],\n",
    "    #'reg_lambda': [0, 0.01, 0.1]\n",
    "}\n",
    "xgb_model = XGBClassifier()\n",
    "\n",
    "print(\"XGBoost: Carrying out hyperparameter optimisation\")\n",
    "grid_search = GridSearchCV(xgb_model, param_grid=param_grid, n_jobs=-1, cv=cv, scoring='accuracy')\n",
    "grid_search.fit(X_train, y_train)\n",
    "\n",
    "# use the best model found by grid search to make predictions on the validation set\n",
    "xgb_best_model = grid_search.best_estimator_\n",
    "print(\"Best parameters:\", grid_search.best_params_)\n",
    "print(\"Best score:\", grid_search.best_score_)\n",
    "\n",
    "\n",
    "y_pred_val = xgb_best_model.predict(X_val)\n",
    "# evaluate the best model's accuracy on the validation set\n",
    "val_accuracy = accuracy_score(y_val, y_pred_val)\n",
    "\n",
    "val_comp = pd.DataFrame({'actual': label_encoder.inverse_transform(y_val), 'pred': label_encoder.inverse_transform(y_pred_val)})\n",
    "\n",
    "print(f\"XGBoost: Validation accuracy: {val_accuracy:.4f}\")\n",
    "\n",
    "val_comp.query(\"actual != pred\")"
   ],
   "metadata": {
    "collapsed": false,
    "ExecuteTime": {
     "start_time": "2023-04-28T00:29:06.223351Z",
     "end_time": "2023-04-28T00:33:18.513375Z"
    }
   }
  },
  {
   "cell_type": "markdown",
   "source": [],
   "metadata": {
    "collapsed": false
   }
  },
  {
   "cell_type": "code",
   "execution_count": null,
   "outputs": [],
   "source": [
    "# evaluate the best model's accuracy on the test set\n",
    "y_pred_test = xgb_best_model.predict(X_test)\n",
    "test_accuracy = accuracy_score(y_test, y_pred_test)\n",
    "\n",
    "test_comp = pd.DataFrame({'actual': label_encoder.inverse_transform(y_test), 'pred': label_encoder.inverse_transform(y_pred_test)})\n",
    "\n",
    "print(f\"XGBoost: Test accuracy: {test_accuracy:.4f}\")\n",
    "\n",
    "# save the trained model to a file\n",
    "print(\"XGBoost: Saving model to file\")\n",
    "joblib.dump(xgb_best_model, 'model2/FoamAmV2/xgb_model.joblib')\n",
    "\n",
    "test_comp.query(\"actual != pred\")"
   ],
   "metadata": {
    "collapsed": false,
    "ExecuteTime": {
     "start_time": "2023-04-28T00:33:18.228371Z",
     "end_time": "2023-04-28T00:33:18.521565Z"
    }
   }
  },
  {
   "cell_type": "markdown",
   "source": [],
   "metadata": {
    "collapsed": false
   }
  },
  {
   "cell_type": "code",
   "execution_count": null,
   "outputs": [],
   "source": [
    "print(\"XGBoost: Evaluation\")\n",
    "print(classification_report(y_test,y_pred_test))"
   ],
   "metadata": {
    "collapsed": false,
    "ExecuteTime": {
     "start_time": "2023-04-28T00:33:18.428805Z",
     "end_time": "2023-04-28T00:33:18.521565Z"
    }
   }
  },
  {
   "cell_type": "markdown",
   "source": [],
   "metadata": {
    "collapsed": false
   }
  },
  {
   "cell_type": "code",
   "execution_count": null,
   "outputs": [],
   "source": [
    "conf_matrix = confusion_matrix(y_test,y_pred_test)\n",
    "\n",
    "# normalize the confusion matrix\n",
    "conf_matrix_norm = conf_matrix.astype('float') / conf_matrix.sum(axis=1)[:, np.newaxis]\n",
    "\n",
    "# define the labels for the x and y axes, by decoding the one hot encoded values\n",
    "labels = label_encoder.inverse_transform(range(0,16))\n",
    "\n",
    "# create a heatmap of the normalized confusion matrix\n",
    "plt.figure(figsize=(8,6))\n",
    "sns.heatmap(conf_matrix_norm, cmap=\"RdPu\", annot=True, fmt='.1f', xticklabels=labels, yticklabels=labels)\n",
    "\n",
    "# set the title of the plot\n",
    "plt.title(\"XGBoost Confusion Matrix\")\n",
    "plt.ylabel('Actual')\n",
    "plt.xlabel('Predicted')\n",
    "\n",
    "plt.savefig(\"model2/FoamAmV2/images/xgb_conf_matrix.png\", dpi=300)\n",
    "\n",
    "# show the plot\n",
    "plt.show()"
   ],
   "metadata": {
    "collapsed": false,
    "ExecuteTime": {
     "start_time": "2023-04-28T00:33:18.504496Z",
     "end_time": "2023-04-28T00:33:28.421089Z"
    }
   }
  }
 ],
 "metadata": {
  "kernelspec": {
   "display_name": "Python 3",
   "language": "python",
   "name": "python3"
  },
  "language_info": {
   "codemirror_mode": {
    "name": "ipython",
    "version": 2
   },
   "file_extension": ".py",
   "mimetype": "text/x-python",
   "name": "python",
   "nbconvert_exporter": "python",
   "pygments_lexer": "ipython2",
   "version": "2.7.6"
  }
 },
 "nbformat": 4,
 "nbformat_minor": 0
}
